{
 "cells": [
  {
   "cell_type": "code",
   "execution_count": 8,
   "id": "7b6caf8b",
   "metadata": {},
   "outputs": [
    {
     "name": "stdout",
     "output_type": "stream",
     "text": [
      "[0, 0, 1, 2, 2]\n"
     ]
    }
   ],
   "source": [
    "def dutchsort(arr, n):\n",
    "    low = 0\n",
    "    high = n - 1\n",
    "    mid = 0\n",
    "    while mid <= high:\n",
    "        if arr[mid] == 0:\n",
    "            arr[low], arr[mid] = arr[mid], arr[low]\n",
    "            low = low + 1\n",
    "            mid = mid + 1\n",
    "        elif arr[mid] == 1:\n",
    "            mid = mid + 1\n",
    "        else:\n",
    "            arr[mid], arr[high] = arr[high], arr[mid]\n",
    "            high = high - 1\n",
    "    return arr\n",
    "\n",
    "\n",
    "# Driver Program\n",
    "arr = [0, 1, 2, 0, 2]\n",
    "n = len(arr)\n",
    "arr = dutchsort(arr, n)\n",
    "print(arr)"
   ]
  },
  {
   "cell_type": "code",
   "execution_count": null,
   "id": "c8b529c8",
   "metadata": {},
   "outputs": [],
   "source": []
  }
 ],
 "metadata": {
  "kernelspec": {
   "display_name": "Python 3 (ipykernel)",
   "language": "python",
   "name": "python3"
  },
  "language_info": {
   "codemirror_mode": {
    "name": "ipython",
    "version": 3
   },
   "file_extension": ".py",
   "mimetype": "text/x-python",
   "name": "python",
   "nbconvert_exporter": "python",
   "pygments_lexer": "ipython3",
   "version": "3.11.5"
  }
 },
 "nbformat": 4,
 "nbformat_minor": 5
}
