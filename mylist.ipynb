{
 "cells": [
  {
   "cell_type": "code",
   "execution_count": 10,
   "id": "280dd362",
   "metadata": {},
   "outputs": [
    {
     "name": "stdout",
     "output_type": "stream",
     "text": [
      "Guess value is =  4\n",
      "Secret value is =  8\n",
      "too low!\n"
     ]
    }
   ],
   "source": [
    "secret = 8\n",
    "guess = 4\n",
    "\n",
    "print(\"Guess value is = \", guess)\n",
    "print(\"Secret value is = \", secret)\n",
    "\n",
    "if guess < secret:\n",
    "    print(\"too low!\")\n",
    "\n",
    "elif guess > secret:\n",
    "    print(\"too high!\")\n",
    "\n",
    "else:\n",
    "    print(\"just right!\")"
   ]
  }
 ],
 "metadata": {
  "kernelspec": {
   "display_name": "Python 3 (ipykernel)",
   "language": "python",
   "name": "python3"
  },
  "language_info": {
   "codemirror_mode": {
    "name": "ipython",
    "version": 3
   },
   "file_extension": ".py",
   "mimetype": "text/x-python",
   "name": "python",
   "nbconvert_exporter": "python",
   "pygments_lexer": "ipython3",
   "version": "3.11.5"
  }
 },
 "nbformat": 4,
 "nbformat_minor": 5
}
