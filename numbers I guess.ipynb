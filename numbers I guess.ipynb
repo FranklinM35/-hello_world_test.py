{
 "cells": [
  {
   "cell_type": "code",
   "execution_count": 1,
   "id": "8e7869d1",
   "metadata": {},
   "outputs": [],
   "source": [
    "def good():\n",
    "  list_1 = ['Harry', 'Ron', 'Hermione']\n",
    "  return list_1"
   ]
  },
  {
   "cell_type": "code",
   "execution_count": 2,
   "id": "b2153fb4",
   "metadata": {},
   "outputs": [
    {
     "name": "stdout",
     "output_type": "stream",
     "text": [
      "5\n"
     ]
    }
   ],
   "source": [
    "def get_odds():\n",
    "    for num in range(10):\n",
    "        if num % 2 != 0:\n",
    "            yield num\n",
    "\n",
    "# Use the generator function in a for loop\n",
    "count = 0\n",
    "for num in get_odds():\n",
    "    if count == 2:\n",
    "        print(num)\n",
    "        break\n",
    "    count += 1"
   ]
  }
 ],
 "metadata": {
  "kernelspec": {
   "display_name": "Python 3 (ipykernel)",
   "language": "python",
   "name": "python3"
  },
  "language_info": {
   "codemirror_mode": {
    "name": "ipython",
    "version": 3
   },
   "file_extension": ".py",
   "mimetype": "text/x-python",
   "name": "python",
   "nbconvert_exporter": "python",
   "pygments_lexer": "ipython3",
   "version": "3.11.5"
  }
 },
 "nbformat": 4,
 "nbformat_minor": 5
}
